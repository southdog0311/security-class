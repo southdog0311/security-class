{
 "cells": [
  {
   "cell_type": "code",
   "execution_count": 1,
   "metadata": {},
   "outputs": [],
   "source": [
    "#Authority產生一對KEY\n",
    "from Crypto.PublicKey import RSA\n",
    "\n",
    "#產生 2048 位元 RSA 金鑰\n",
    "key = RSA.generate(2048)\n",
    "\n",
    "# RSA 私鑰\n",
    "privateKey = key.export_key()\n",
    "with open(\"private_C.pem\", \"wb\") as f:\n",
    "    f.write(privateKey)\n",
    "\n",
    "# RSA 公鑰\n",
    "publicKey = key.publickey().export_key()\n",
    "with open(\"public_C.pem\", \"wb\") as f:\n",
    "    f.write(publicKey)"
   ]
  },
  {
   "cell_type": "code",
   "execution_count": 2,
   "metadata": {},
   "outputs": [
    {
     "name": "stdout",
     "output_type": "stream",
     "text": [
      "-----BEGIN PUBLIC KEY-----\n",
      "MIIBIjANBgkqhkiG9w0BAQEFAAOCAQ8AMIIBCgKCAQEA4qYjLqaRPymI8AsLYiyC\n",
      "s09BaQgeVi/BjRqXVhl+FrofLxq19pNiJSp3tMd1rt1afXOCBT9XWfhCcp211G4D\n",
      "/vEuRFPJS3a/SsfLiIlYyN4emmx7lGzw3yUBzl+F1rjO/saHvIpkJrtO0i39uEDC\n",
      "E8NdJTAY2DrrrWLGsJnCnkTXbjspaQ6LNATA3nFqXZVPHm7Z4FVegtAQnGi6XwQ0\n",
      "Si5C/q7Pm86jBp469J1bt+fl9uzrJ4JQIAkOUCBaCyly+s9Z0lEJXQqUtdjNke/r\n",
      "0Zm0baRS4VwhPOKtez9JLD2ynt0LxKA8dJ40NbP8XxgSk5hIAr02J5IaE5mUb6Og\n",
      "lQIDAQAB\n",
      "-----END PUBLIC KEY-----\n"
     ]
    }
   ],
   "source": [
    "#A產生一對KEY\n",
    "from Crypto.PublicKey import RSA\n",
    "\n",
    "#產生 2048 位元 RSA 金鑰\n",
    "key = RSA.generate(2048)\n",
    "\n",
    "# RSA 私鑰\n",
    "privateKey = key.export_key()\n",
    "with open(\"private_A.pem\", \"wb\") as f:\n",
    "    f.write(privateKey)\n",
    "\n",
    "# RSA 公鑰\n",
    "publicKey = key.public_key().export_key()\n",
    "with open(\"public_A.pem\", \"wb\") as f:\n",
    "    f.write(publicKey)\n",
    "    \n",
    "print(publicKey.decode(\"utf-8\"))"
   ]
  },
  {
   "cell_type": "code",
   "execution_count": 3,
   "metadata": {},
   "outputs": [
    {
     "name": "stdout",
     "output_type": "stream",
     "text": [
      "-----BEGIN PUBLIC KEY-----\n",
      "MIIBIjANBgkqhkiG9w0BAQEFAAOCAQ8AMIIBCgKCAQEAvXU1qxLwnw5Gru5ruVNO\n",
      "34kZUxSl+nb/UUlyNziakLuOLpPK1A8urveDanFKK7gQT0P8Pd6nmeT1bLsHEa/B\n",
      "V4TVqjjLvVIKx8upLk9tu8wXvy35klAt0tKHCklOF83abYXupZ9LHDV+fmcgADOA\n",
      "q7VWbZL37fffEplIEFS8amQ7aMUC9HAMd38E9FOXecLXPA1ANkd7iidCxdSHVC/G\n",
      "IJXb1zx0a/VZpa0Eg4VKPWLeavbd87FW3GJCNjtyZZcdNeu84lBlMV0TIeGxnleO\n",
      "Llb1ibsyK8EZ/qIq5pVHzq28Ah8x6HLYo3Tk0EZTaGfY44I+/lUWaZUlM/A6FrlL\n",
      "aQIDAQAB\n",
      "-----END PUBLIC KEY-----\n"
     ]
    }
   ],
   "source": [
    "#B產生一對KEY\n",
    "from Crypto.PublicKey import RSA\n",
    "\n",
    "#產生 2048 位元 RSA 金鑰\n",
    "key = RSA.generate(2048)\n",
    "\n",
    "# RSA 私鑰\n",
    "privateKey = key.export_key()\n",
    "with open(\"private_B.pem\", \"wb\") as f:\n",
    "    f.write(privateKey)\n",
    "\n",
    "# RSA 公鑰\n",
    "publicKey = key.publickey().export_key()\n",
    "with open(\"public_B.pem\", \"wb\") as f:\n",
    "    f.write(publicKey)\n",
    "    \n",
    "print(publicKey.decode(\"utf-8\"))"
   ]
  },
  {
   "cell_type": "code",
   "execution_count": 4,
   "metadata": {},
   "outputs": [],
   "source": [
    "#A向C發送請求 產生時間戳記\n",
    "\n",
    "import time\n",
    "localtime = time.asctime( time.localtime(time.time()) )\n",
    "f = open('times_Ta.txt' , 'w')\n",
    "f.write(localtime)\n",
    "f.close()\n",
    "\n",
    "\n",
    "\n",
    "#Authority利用自身私鑰對AB的公鑰產生數位簽章    \n",
    "\n",
    "\n",
    "from Crypto.Random import get_random_bytes\n",
    "from Crypto.Cipher import AES, PKCS1_OAEP\n",
    "import Crypto.Cipher.AES as AES\n",
    "import operator\n",
    "from base64 import b64encode, b64decode\n",
    "from Crypto.PublicKey import RSA\n",
    "from Crypto.Hash import SHA\n",
    "from Crypto.Signature import PKCS1_v1_5\n",
    "\n",
    "\n",
    "with open('public_B.pem', 'rb') as f:\n",
    "        data = f.read()\n",
    "\n",
    "privateKey = RSA.import_key(open(\"private_C.pem\").read())\n",
    "\n",
    "\n",
    "def generate_rsa_sha1_signature(data, private_key):\n",
    "    hash_obj = SHA.new(data)\n",
    "    key = private_key\n",
    "    signer = PKCS1_v1_5.new(key)\n",
    "    signature = signer.sign(hash_obj)\n",
    "    return b64encode(signature)\n",
    "\n",
    "signedA = generate_rsa_sha1_signature(data, privateKey)\n",
    "with open(\"signed_CtoA.txt\", \"wb\") as f:\n",
    "        f.write(signedA)\n",
    "\n"
   ]
  },
  {
   "cell_type": "code",
   "execution_count": 5,
   "metadata": {},
   "outputs": [
    {
     "name": "stdout",
     "output_type": "stream",
     "text": [
      "Wed Jan 11 20:53:14 2023\n"
     ]
    }
   ],
   "source": [
    "#A用C的公鑰得到B的公鑰\n",
    "# 驗證數位簽章    \n",
    "from base64 import b64encode, b64decode\n",
    "from Crypto.PublicKey import RSA\n",
    "from Crypto.Hash import SHA\n",
    "from Crypto.Signature import PKCS1_v1_5\n",
    "\n",
    "def verify_rsa_sha1_signature(data, public_key, signature):\n",
    "    hash_obj = SHA.new(data)\n",
    "    key = public_key\n",
    "    signature = b64decode(signature)\n",
    "    verifier = PKCS1_v1_5.new(key)\n",
    "    return verifier.verify(hash_obj, signature)\n",
    "\n",
    "publicKey = RSA.import_key(open(\"public_C.pem\").read())\n",
    "\n",
    "a = verify_rsa_sha1_signature(data, publicKey, signedA)\n",
    "if(a):\n",
    "    f = open('times_Ta.txt' , 'r')\n",
    "    timestamp = f.read()\n",
    "    print (timestamp) #驗證timestamp 確認是A剛剛要求的\n",
    "\n",
    "    #加密並傳送B的公鑰給B\n",
    "    #利用AES加密\n",
    "    from Crypto.PublicKey import RSA\n",
    "    from Crypto.Random import get_random_bytes\n",
    "    from Crypto.Cipher import AES, PKCS1_OAEP\n",
    "    import Crypto.Cipher.AES as AES\n",
    "    import operator\n",
    "\n",
    "# 讀取 RSA 公鑰\n",
    "    publicKey = RSA.import_key(open(\"public_B.pem\").read())\n",
    "\n",
    "# 建立隨機的 AES 金鑰\n",
    "    sessionKey = get_random_bytes(16)\n",
    "\n",
    "# 以 RSA 金鑰加密 AES 金鑰\n",
    "    cipherRSA = PKCS1_OAEP.new(publicKey)\n",
    "    encSessionKey = cipherRSA.encrypt(sessionKey)\n",
    "\n",
    "# 以 AES 金鑰加密資料\n",
    "    cipherAES = AES.new(sessionKey, AES.MODE_EAX)\n",
    "    ciphertext, tag = cipherAES.encrypt_and_digest(data)\n",
    "\n",
    "# 將加密結果寫入檔案\n",
    "    with open(\"encrypted_AtoB.bin\", \"wb\") as f:\n",
    "        f.write(encSessionKey)\n",
    "        f.write(cipherAES.nonce)\n",
    "        f.write(tag)\n",
    "        f.write(ciphertext)\n",
    "else:\n",
    "    print('error')"
   ]
  },
  {
   "cell_type": "code",
   "execution_count": 6,
   "metadata": {},
   "outputs": [
    {
     "name": "stdout",
     "output_type": "stream",
     "text": [
      "-----BEGIN PUBLIC KEY-----\n",
      "MIIBIjANBgkqhkiG9w0BAQEFAAOCAQ8AMIIBCgKCAQEAvXU1qxLwnw5Gru5ruVNO\n",
      "34kZUxSl+nb/UUlyNziakLuOLpPK1A8urveDanFKK7gQT0P8Pd6nmeT1bLsHEa/B\n",
      "V4TVqjjLvVIKx8upLk9tu8wXvy35klAt0tKHCklOF83abYXupZ9LHDV+fmcgADOA\n",
      "q7VWbZL37fffEplIEFS8amQ7aMUC9HAMd38E9FOXecLXPA1ANkd7iidCxdSHVC/G\n",
      "IJXb1zx0a/VZpa0Eg4VKPWLeavbd87FW3GJCNjtyZZcdNeu84lBlMV0TIeGxnleO\n",
      "Llb1ibsyK8EZ/qIq5pVHzq28Ah8x6HLYo3Tk0EZTaGfY44I+/lUWaZUlM/A6FrlL\n",
      "aQIDAQAB\n",
      "-----END PUBLIC KEY-----\n"
     ]
    }
   ],
   "source": [
    "#B收到由自己的公鑰所加密的代表A傳送的訊息->A跟B說我拿到你的公鑰了\n",
    "# 從檔案讀取加密資料\n",
    "# 讀取 RSA 私鑰\n",
    "privateKey = RSA.import_key(open(\"private_B.pem\").read())\n",
    "with open(\"encrypted_AtoB.bin\", \"rb\") as f:\n",
    "    encSessionKey = f.read(privateKey.size_in_bytes())\n",
    "    nonce = f.read(16)\n",
    "    tag = f.read(16)\n",
    "    ciphertext = f.read(-1)\n",
    "\n",
    "# 以 RSA 金鑰解密 AES 金鑰\n",
    "cipherRSA = PKCS1_OAEP.new(privateKey)\n",
    "sessionKey = cipherRSA.decrypt(encSessionKey)\n",
    "\n",
    "# 以 AES 金鑰解密資料\n",
    "cipherAES = AES.new(sessionKey, AES.MODE_EAX, nonce)\n",
    "data = cipherAES.decrypt_and_verify(ciphertext, tag)\n",
    "\n",
    "# 輸出解密後的資料\n",
    "print(data.decode(\"utf-8\"))\n",
    "\n"
   ]
  },
  {
   "cell_type": "code",
   "execution_count": 7,
   "metadata": {},
   "outputs": [],
   "source": [
    "#B向C發送請求 產生時間戳記\n",
    "\n",
    "import time\n",
    "localtime = time.asctime( time.localtime(time.time()) )\n",
    "f = open('times_Tb.txt' , 'w')\n",
    "f.write(localtime)\n",
    "f.close()\n",
    "\n",
    "\n",
    "\n",
    "#Authority利用自身私鑰對A的公鑰產生數位簽章    \n",
    "\n",
    "\n",
    "from Crypto.Random import get_random_bytes\n",
    "from Crypto.Cipher import AES, PKCS1_OAEP\n",
    "import Crypto.Cipher.AES as AES\n",
    "import operator\n",
    "from base64 import b64encode, b64decode\n",
    "from Crypto.PublicKey import RSA\n",
    "from Crypto.Hash import SHA\n",
    "from Crypto.Signature import PKCS1_v1_5\n",
    "\n",
    "\n",
    "with open('public_A.pem', 'rb') as f:\n",
    "        data = f.read()\n",
    "\n",
    "privateKey = RSA.import_key(open(\"private_C.pem\").read())\n",
    "\n",
    "\n",
    "def generate_rsa_sha1_signature(data, private_key):\n",
    "    hash_obj = SHA.new(data)\n",
    "    key = private_key\n",
    "    signer = PKCS1_v1_5.new(key)\n",
    "    signature = signer.sign(hash_obj)\n",
    "    return b64encode(signature)\n",
    "\n",
    "signedB = generate_rsa_sha1_signature(data, privateKey)\n",
    "with open(\"signed_CtoB.txt\", \"wb\") as f:\n",
    "        f.write(signedB)\n"
   ]
  },
  {
   "cell_type": "code",
   "execution_count": 8,
   "metadata": {},
   "outputs": [
    {
     "name": "stdout",
     "output_type": "stream",
     "text": [
      "Wed Jan 11 21:02:38 2023\n"
     ]
    }
   ],
   "source": [
    "#B用C的公鑰得到A的公鑰\n",
    "# 驗證數位簽章    \n",
    "from base64 import b64encode, b64decode\n",
    "from Crypto.PublicKey import RSA\n",
    "from Crypto.Hash import SHA\n",
    "from Crypto.Signature import PKCS1_v1_5\n",
    "\n",
    "def verify_rsa_sha1_signature(data, public_key, signature):\n",
    "    hash_obj = SHA.new(data)\n",
    "    key = public_key\n",
    "    signature = b64decode(signature)\n",
    "    verifier = PKCS1_v1_5.new(key)\n",
    "    return verifier.verify(hash_obj, signature)\n",
    "\n",
    "publicKey = RSA.import_key(open(\"public_C.pem\").read())\n",
    "\n",
    "a = verify_rsa_sha1_signature(data, publicKey, signedB)\n",
    "if(a):\n",
    "    f = open('times_Tb.txt' , 'r')\n",
    "    timestamp = f.read()\n",
    "    print (timestamp) #驗證timestamp 確認是B剛剛要求的\n",
    "\n",
    "    #加密並傳送A的公鑰給A\n",
    "    #利用AES加密\n",
    "    from Crypto.PublicKey import RSA\n",
    "    from Crypto.Random import get_random_bytes\n",
    "    from Crypto.Cipher import AES, PKCS1_OAEP\n",
    "    import Crypto.Cipher.AES as AES\n",
    "    import operator\n",
    "\n",
    "# 讀取 RSA 公鑰\n",
    "    publicKey = RSA.import_key(open(\"public_A.pem\").read())\n",
    "\n",
    "# 建立隨機的 AES 金鑰\n",
    "    sessionKey = get_random_bytes(16)\n",
    "\n",
    "# 以 RSA 金鑰加密 AES 金鑰\n",
    "    cipherRSA = PKCS1_OAEP.new(publicKey)\n",
    "    encSessionKey = cipherRSA.encrypt(sessionKey)\n",
    "\n",
    "# 以 AES 金鑰加密資料\n",
    "    cipherAES = AES.new(sessionKey, AES.MODE_EAX)\n",
    "    ciphertext, tag = cipherAES.encrypt_and_digest(data)\n",
    "\n",
    "# 將加密結果寫入檔案\n",
    "    with open(\"encrypted_BtoA.bin\", \"wb\") as f:\n",
    "        f.write(encSessionKey)\n",
    "        f.write(cipherAES.nonce)\n",
    "        f.write(tag)\n",
    "        f.write(ciphertext)\n",
    "else:\n",
    "    print('error')"
   ]
  },
  {
   "cell_type": "code",
   "execution_count": 9,
   "metadata": {},
   "outputs": [
    {
     "name": "stdout",
     "output_type": "stream",
     "text": [
      "-----BEGIN PUBLIC KEY-----\n",
      "MIIBIjANBgkqhkiG9w0BAQEFAAOCAQ8AMIIBCgKCAQEA4qYjLqaRPymI8AsLYiyC\n",
      "s09BaQgeVi/BjRqXVhl+FrofLxq19pNiJSp3tMd1rt1afXOCBT9XWfhCcp211G4D\n",
      "/vEuRFPJS3a/SsfLiIlYyN4emmx7lGzw3yUBzl+F1rjO/saHvIpkJrtO0i39uEDC\n",
      "E8NdJTAY2DrrrWLGsJnCnkTXbjspaQ6LNATA3nFqXZVPHm7Z4FVegtAQnGi6XwQ0\n",
      "Si5C/q7Pm86jBp469J1bt+fl9uzrJ4JQIAkOUCBaCyly+s9Z0lEJXQqUtdjNke/r\n",
      "0Zm0baRS4VwhPOKtez9JLD2ynt0LxKA8dJ40NbP8XxgSk5hIAr02J5IaE5mUb6Og\n",
      "lQIDAQAB\n",
      "-----END PUBLIC KEY-----\n"
     ]
    }
   ],
   "source": [
    "#A收到由自己的公鑰所加密的代表B傳送的訊息->B跟A說我拿到你的公鑰了\n",
    "# 從檔案讀取加密資料\n",
    "# 讀取 RSA 私鑰\n",
    "privateKey = RSA.import_key(open(\"private_A.pem\").read())\n",
    "with open(\"encrypted_BtoA.bin\", \"rb\") as f:\n",
    "    encSessionKey = f.read(privateKey.size_in_bytes())\n",
    "    nonce = f.read(16)\n",
    "    tag = f.read(16)\n",
    "    ciphertext = f.read(-1)\n",
    "\n",
    "# 以 RSA 金鑰解密 AES 金鑰\n",
    "cipherRSA = PKCS1_OAEP.new(privateKey)\n",
    "sessionKey = cipherRSA.decrypt(encSessionKey)\n",
    "\n",
    "# 以 AES 金鑰解密資料\n",
    "cipherAES = AES.new(sessionKey, AES.MODE_EAX, nonce)\n",
    "data = cipherAES.decrypt_and_verify(ciphertext, tag)\n",
    "\n",
    "# 輸出解密後的資料\n",
    "print(data.decode(\"utf-8\"))\n",
    "\n"
   ]
  },
  {
   "cell_type": "code",
   "execution_count": 10,
   "metadata": {},
   "outputs": [
    {
     "name": "stdout",
     "output_type": "stream",
     "text": [
      "互相有公鑰後 可利用彼此公鑰進行加密通訊\n"
     ]
    }
   ],
   "source": [
    "print('互相有公鑰後 可利用彼此公鑰進行加密通訊')"
   ]
  }
 ],
 "metadata": {
  "kernelspec": {
   "display_name": "Python 3",
   "language": "python",
   "name": "python3"
  },
  "language_info": {
   "codemirror_mode": {
    "name": "ipython",
    "version": 3
   },
   "file_extension": ".py",
   "mimetype": "text/x-python",
   "name": "python",
   "nbconvert_exporter": "python",
   "pygments_lexer": "ipython3",
   "version": "3.11.1"
  },
  "orig_nbformat": 4,
  "vscode": {
   "interpreter": {
    "hash": "d417a21d97a2e6b8832d21dc44f5cbe4be6e18325f874a8bb8484565b928cd54"
   }
  }
 },
 "nbformat": 4,
 "nbformat_minor": 2
}
