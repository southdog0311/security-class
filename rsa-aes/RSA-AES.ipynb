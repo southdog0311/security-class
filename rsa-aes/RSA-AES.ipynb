{
 "cells": [
  {
   "cell_type": "code",
   "execution_count": 1,
   "metadata": {},
   "outputs": [
    {
     "name": "stdout",
     "output_type": "stream",
     "text": [
      "Requirement already satisfied: pycryptodome in c:\\users\\sam22\\appdata\\local\\programs\\python\\python310\\lib\\site-packages (3.16.0)\n",
      "Note: you may need to restart the kernel to use updated packages.\n"
     ]
    }
   ],
   "source": [
    "pip install pycryptodome"
   ]
  },
  {
   "cell_type": "code",
   "execution_count": 27,
   "metadata": {},
   "outputs": [],
   "source": [
    "from Crypto.PublicKey import RSA\n",
    "\n",
    "#產生 2048 位元 RSA 金鑰\n",
    "key = RSA.generate(2048)\n",
    "\n",
    "# RSA 私鑰\n",
    "privateKey = key.export_key()\n",
    "with open(\"private.pem\", \"wb\") as f:\n",
    "    f.write(privateKey)\n",
    "\n",
    "# RSA 公鑰\n",
    "publicKey = key.publickey().export_key()\n",
    "with open(\"public.pem\", \"wb\") as f:\n",
    "    f.write(publicKey)"
   ]
  },
  {
   "cell_type": "code",
   "execution_count": 28,
   "metadata": {},
   "outputs": [],
   "source": [
    "from Crypto.PublicKey import RSA\n",
    "from Crypto.Random import get_random_bytes\n",
    "from Crypto.Cipher import AES, PKCS1_OAEP\n",
    "import Crypto.Cipher.AES as AES\n",
    "import operator\n",
    "\n",
    "\n",
    "with open('name.txt', 'rb') as f:\n",
    "        data = f.read()\n",
    "\n",
    "# 讀取 RSA 公鑰\n",
    "publicKey = RSA.import_key(open(\"public.pem\").read())\n",
    "\n",
    "# 建立隨機的 AES 金鑰\n",
    "sessionKey = get_random_bytes(16)\n",
    "\n",
    "# 以 RSA 金鑰加密 AES 金鑰\n",
    "cipherRSA = PKCS1_OAEP.new(publicKey)\n",
    "encSessionKey = cipherRSA.encrypt(sessionKey)\n",
    "\n",
    "# 以 AES 金鑰加密資料\n",
    "cipherAES = AES.new(sessionKey, AES.MODE_EAX)\n",
    "ciphertext, tag = cipherAES.encrypt_and_digest(data)\n",
    "\n",
    "# 將加密結果寫入檔案\n",
    "with open(\"encrypted_data.bin\", \"wb\") as f:\n",
    "    f.write(encSessionKey)\n",
    "    f.write(cipherAES.nonce)\n",
    "    f.write(tag)\n",
    "    f.write(ciphertext)"
   ]
  },
  {
   "cell_type": "code",
   "execution_count": 29,
   "metadata": {},
   "outputs": [
    {
     "name": "stdout",
     "output_type": "stream",
     "text": [
      "s1092929 徐文献\n"
     ]
    }
   ],
   "source": [
    "from Crypto.PublicKey import RSA\n",
    "from Crypto.Cipher import AES, PKCS1_OAEP\n",
    "\n",
    "# 讀取 RSA 私鑰\n",
    "privateKey = RSA.import_key(open(\"private.pem\").read())\n",
    "\n",
    "# 從檔案讀取加密資料\n",
    "with open(\"encrypted_data.bin\", \"rb\") as f:\n",
    "    encSessionKey = f.read(privateKey.size_in_bytes())\n",
    "    nonce = f.read(16)\n",
    "    tag = f.read(16)\n",
    "    ciphertext = f.read(-1)\n",
    "\n",
    "# 以 RSA 金鑰解密 AES 金鑰\n",
    "cipherRSA = PKCS1_OAEP.new(privateKey)\n",
    "sessionKey = cipherRSA.decrypt(encSessionKey)\n",
    "\n",
    "# 以 AES 金鑰解密資料\n",
    "cipherAES = AES.new(sessionKey, AES.MODE_EAX, nonce)\n",
    "data = cipherAES.decrypt_and_verify(ciphertext, tag)\n",
    "\n",
    "# 輸出解密後的資料\n",
    "print(data.decode(\"utf-8\"))"
   ]
  }
 ],
 "metadata": {
  "kernelspec": {
   "display_name": "Python 3.10.5 64-bit",
   "language": "python",
   "name": "python3"
  },
  "language_info": {
   "codemirror_mode": {
    "name": "ipython",
    "version": 3
   },
   "file_extension": ".py",
   "mimetype": "text/x-python",
   "name": "python",
   "nbconvert_exporter": "python",
   "pygments_lexer": "ipython3",
   "version": "3.10.5"
  },
  "orig_nbformat": 4,
  "vscode": {
   "interpreter": {
    "hash": "870d58f0c6628b5df269b4b10dbba951916c7e067ea087889f9049a2ceb1158b"
   }
  }
 },
 "nbformat": 4,
 "nbformat_minor": 2
}
